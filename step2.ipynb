{
 "cells": [
  {
   "cell_type": "code",
   "execution_count": 1,
   "metadata": {},
   "outputs": [
    {
     "name": "stderr",
     "output_type": "stream",
     "text": [
      "/Users/mateusztybura/anaconda3/lib/python3.6/site-packages/sklearn/cross_validation.py:41: DeprecationWarning: This module was deprecated in version 0.18 in favor of the model_selection module into which all the refactored classes and functions are moved. Also note that the interface of the new CV iterators are different from that of this module. This module will be removed in 0.20.\n",
      "  \"This module will be removed in 0.20.\", DeprecationWarning)\n"
     ]
    }
   ],
   "source": [
    "import pandas as pd\n",
    "import numpy as np\n",
    "import xgboost as xgb\n",
    "\n",
    "from sklearn import preprocessing\n",
    "from sklearn.cross_validation import KFold\n",
    "\n",
    "from sklearn.metrics import mean_absolute_error\n",
    "\n",
    "%matplotlib inline"
   ]
  },
  {
   "cell_type": "code",
   "execution_count": 2,
   "metadata": {
    "collapsed": true
   },
   "outputs": [],
   "source": [
    "train = pd.read_csv('train.csv')"
   ]
  },
  {
   "cell_type": "code",
   "execution_count": 3,
   "metadata": {
    "collapsed": true
   },
   "outputs": [],
   "source": [
    "cat_feats = train.select_dtypes(include=[\"object\"]).columns\n",
    "\n",
    "for feat in cat_feats:\n",
    "    train[feat + '_id'] = preprocessing.LabelEncoder().fit_transform(train[feat].values)"
   ]
  },
  {
   "cell_type": "code",
   "execution_count": 4,
   "metadata": {
    "collapsed": true
   },
   "outputs": [],
   "source": [
    "num_feats = [feat for feat in train.columns if 'cont' in feat]\n",
    "id_feats  = [feat for feat in train.columns if '_id' in feat]\n",
    "\n",
    "X = train[num_feats + id_feats].values\n",
    "y = train['loss'].values"
   ]
  },
  {
   "cell_type": "code",
   "execution_count": 5,
   "metadata": {
    "collapsed": true
   },
   "outputs": [],
   "source": [
    "model = xgb.XGBRegressor(\n",
    "    max_depth = 12,\n",
    "    learning_rate = 0.2,\n",
    "    n_estimators = 20,\n",
    "    silent = 0,\n",
    "    objective = 'reg:linear',\n",
    "    nthread = -1,\n",
    "    # gamma = 5290.,\n",
    "    # min_child_weight = 4.2922,\n",
    "    subsample = 0.7,\n",
    "    colsample_bytree = 0.6,\n",
    "    seed = 2017\n",
    ")"
   ]
  },
  {
   "cell_type": "code",
   "execution_count": 6,
   "metadata": {},
   "outputs": [
    {
     "name": "stdout",
     "output_type": "stream",
     "text": [
      "[0]\tvalidation_0-mae:2444.59\tvalidation_1-mae:2456.73\n",
      "[1]\tvalidation_0-mae:1994.44\tvalidation_1-mae:2015.5\n",
      "[2]\tvalidation_0-mae:1679.35\tvalidation_1-mae:1714.77\n",
      "[3]\tvalidation_0-mae:1467.29\tvalidation_1-mae:1519.74\n",
      "[4]\tvalidation_0-mae:1331.48\tvalidation_1-mae:1401.69\n",
      "[5]\tvalidation_0-mae:1238.07\tvalidation_1-mae:1327.88\n",
      "[6]\tvalidation_0-mae:1179.27\tvalidation_1-mae:1282.38\n",
      "[7]\tvalidation_0-mae:1137.55\tvalidation_1-mae:1256.62\n",
      "[8]\tvalidation_0-mae:1104.23\tvalidation_1-mae:1238.52\n",
      "[9]\tvalidation_0-mae:1085.17\tvalidation_1-mae:1231.48\n",
      "[10]\tvalidation_0-mae:1070.75\tvalidation_1-mae:1227.66\n",
      "[11]\tvalidation_0-mae:1058.24\tvalidation_1-mae:1226.64\n",
      "[12]\tvalidation_0-mae:1050.15\tvalidation_1-mae:1225.68\n",
      "[13]\tvalidation_0-mae:1040.02\tvalidation_1-mae:1225.85\n",
      "[14]\tvalidation_0-mae:1029.32\tvalidation_1-mae:1224.26\n",
      "[15]\tvalidation_0-mae:1021.08\tvalidation_1-mae:1223.43\n",
      "[16]\tvalidation_0-mae:1013.28\tvalidation_1-mae:1223.66\n",
      "[17]\tvalidation_0-mae:1004.45\tvalidation_1-mae:1223.76\n",
      "[18]\tvalidation_0-mae:998.408\tvalidation_1-mae:1223.95\n",
      "[19]\tvalidation_0-mae:989.761\tvalidation_1-mae:1224.11\n",
      "Fold1, score=1224.1078371375197\n",
      "[0]\tvalidation_0-mae:2453.79\tvalidation_1-mae:2425.29\n",
      "[1]\tvalidation_0-mae:2002.32\tvalidation_1-mae:1985.29\n",
      "[2]\tvalidation_0-mae:1688.14\tvalidation_1-mae:1687.45\n",
      "[3]\tvalidation_0-mae:1475.56\tvalidation_1-mae:1496.06\n",
      "[4]\tvalidation_0-mae:1337.74\tvalidation_1-mae:1380.47\n",
      "[5]\tvalidation_0-mae:1242.45\tvalidation_1-mae:1310.64\n",
      "[6]\tvalidation_0-mae:1182.54\tvalidation_1-mae:1270.56\n",
      "[7]\tvalidation_0-mae:1140.19\tvalidation_1-mae:1246.18\n",
      "[8]\tvalidation_0-mae:1105.65\tvalidation_1-mae:1230.63\n",
      "[9]\tvalidation_0-mae:1085.32\tvalidation_1-mae:1223.83\n",
      "[10]\tvalidation_0-mae:1070.09\tvalidation_1-mae:1221.12\n",
      "[11]\tvalidation_0-mae:1055.65\tvalidation_1-mae:1221.63\n",
      "[12]\tvalidation_0-mae:1048.61\tvalidation_1-mae:1222.62\n",
      "[13]\tvalidation_0-mae:1037.73\tvalidation_1-mae:1223.7\n",
      "[14]\tvalidation_0-mae:1026.7\tvalidation_1-mae:1223.91\n",
      "[15]\tvalidation_0-mae:1017.04\tvalidation_1-mae:1224.06\n",
      "[16]\tvalidation_0-mae:1010.43\tvalidation_1-mae:1224.49\n",
      "[17]\tvalidation_0-mae:1000.18\tvalidation_1-mae:1224.82\n",
      "[18]\tvalidation_0-mae:991.844\tvalidation_1-mae:1225.37\n",
      "[19]\tvalidation_0-mae:984.471\tvalidation_1-mae:1225.06\n",
      "Fold2, score=1225.0567140658316\n",
      "[0]\tvalidation_0-mae:2438.91\tvalidation_1-mae:2462.18\n",
      "[1]\tvalidation_0-mae:1990.33\tvalidation_1-mae:2021.27\n",
      "[2]\tvalidation_0-mae:1675.13\tvalidation_1-mae:1719.31\n",
      "[3]\tvalidation_0-mae:1464.25\tvalidation_1-mae:1525.29\n",
      "[4]\tvalidation_0-mae:1323.12\tvalidation_1-mae:1402.33\n",
      "[5]\tvalidation_0-mae:1229.86\tvalidation_1-mae:1329.2\n",
      "[6]\tvalidation_0-mae:1169.32\tvalidation_1-mae:1285.26\n",
      "[7]\tvalidation_0-mae:1128.45\tvalidation_1-mae:1259.78\n",
      "[8]\tvalidation_0-mae:1096.68\tvalidation_1-mae:1245.34\n",
      "[9]\tvalidation_0-mae:1075.07\tvalidation_1-mae:1236.78\n",
      "[10]\tvalidation_0-mae:1061.35\tvalidation_1-mae:1233.31\n",
      "[11]\tvalidation_0-mae:1048.73\tvalidation_1-mae:1231.54\n",
      "[12]\tvalidation_0-mae:1040.74\tvalidation_1-mae:1230.17\n",
      "[13]\tvalidation_0-mae:1030.07\tvalidation_1-mae:1229.64\n",
      "[14]\tvalidation_0-mae:1024.49\tvalidation_1-mae:1229.59\n",
      "[15]\tvalidation_0-mae:1013.17\tvalidation_1-mae:1228.62\n",
      "[16]\tvalidation_0-mae:1005.18\tvalidation_1-mae:1228.77\n",
      "[17]\tvalidation_0-mae:993.365\tvalidation_1-mae:1228.67\n",
      "[18]\tvalidation_0-mae:982.065\tvalidation_1-mae:1229.4\n",
      "[19]\tvalidation_0-mae:975.589\tvalidation_1-mae:1229.36\n",
      "Fold3, score=1229.3648513041749\n"
     ]
    }
   ],
   "source": [
    "nfolds = 3\n",
    "folds = KFold(len(y), n_folds=nfolds, shuffle = True, random_state = 2017)\n",
    "\n",
    "\n",
    "for num_iter, (train_index, test_index) in enumerate(folds):\n",
    "    X_train, y_train = X[train_index], y[train_index]\n",
    "    X_test, y_test   = X[test_index], y[test_index]\n",
    "    \n",
    "    model.fit(X_train, y_train,\n",
    "       eval_metric='mae',\n",
    "       eval_set=[(X[train_index], y[train_index]), (X[test_index], y[test_index])],\n",
    "       verbose=True)\n",
    "    \n",
    "    y_pred = model.predict(X_test)\n",
    "    y_pred[y_pred<0] = 0\n",
    "    \n",
    "    score = mean_absolute_error(y_test, y_pred)\n",
    "    print(\"Fold{0}, score={1}\".format(num_iter+1, score))"
   ]
  },
  {
   "cell_type": "markdown",
   "metadata": {},
   "source": [
    "## Task\n",
    "\n",
    "One cell above there's a model wich use y like a target variable.\n",
    "Modeify the code in order to use transformed targert variable by logarithm...\n",
    "\n",
    "\n",
    "some TIPS:\n",
    "1. y_log_train = np.log(y_train)\n",
    "2. model.fit(X_train, y_log_train, ...\n",
    "3. y_log_pred = model.predict(X_test)\n",
    "4. y_pred = np.exp(y_log_pred)\n"
   ]
  },
  {
   "cell_type": "code",
   "execution_count": 10,
   "metadata": {},
   "outputs": [
    {
     "name": "stdout",
     "output_type": "stream",
     "text": [
      "[0]\tvalidation_0-mae:5.74862\tvalidation_1-mae:5.75208\n",
      "[1]\tvalidation_0-mae:4.5996\tvalidation_1-mae:4.60274\n",
      "[2]\tvalidation_0-mae:3.68053\tvalidation_1-mae:3.68353\n",
      "[3]\tvalidation_0-mae:2.94528\tvalidation_1-mae:2.94818\n",
      "[4]\tvalidation_0-mae:2.35766\tvalidation_1-mae:2.36079\n",
      "[5]\tvalidation_0-mae:1.88847\tvalidation_1-mae:1.89223\n",
      "[6]\tvalidation_0-mae:1.51523\tvalidation_1-mae:1.51957\n",
      "[7]\tvalidation_0-mae:1.22132\tvalidation_1-mae:1.22775\n",
      "[8]\tvalidation_0-mae:0.992724\tvalidation_1-mae:1.00206\n",
      "[9]\tvalidation_0-mae:0.818921\tvalidation_1-mae:0.832099\n",
      "[10]\tvalidation_0-mae:0.691232\tvalidation_1-mae:0.7083\n",
      "[11]\tvalidation_0-mae:0.599814\tvalidation_1-mae:0.621182\n",
      "[12]\tvalidation_0-mae:0.535346\tvalidation_1-mae:0.560397\n",
      "[13]\tvalidation_0-mae:0.490003\tvalidation_1-mae:0.518635\n",
      "[14]\tvalidation_0-mae:0.45736\tvalidation_1-mae:0.490402\n",
      "[15]\tvalidation_0-mae:0.434806\tvalidation_1-mae:0.471185\n",
      "[16]\tvalidation_0-mae:0.418197\tvalidation_1-mae:0.458144\n",
      "[17]\tvalidation_0-mae:0.406375\tvalidation_1-mae:0.449303\n",
      "[18]\tvalidation_0-mae:0.398181\tvalidation_1-mae:0.443457\n",
      "[19]\tvalidation_0-mae:0.39176\tvalidation_1-mae:0.439218\n",
      "Fold1, score=1228.1140482185338\n",
      "[0]\tvalidation_0-mae:5.75187\tvalidation_1-mae:5.743\n",
      "[1]\tvalidation_0-mae:4.60209\tvalidation_1-mae:4.59355\n",
      "[2]\tvalidation_0-mae:3.68295\tvalidation_1-mae:3.67477\n",
      "[3]\tvalidation_0-mae:2.94734\tvalidation_1-mae:2.93958\n",
      "[4]\tvalidation_0-mae:2.35891\tvalidation_1-mae:2.35153\n",
      "[5]\tvalidation_0-mae:1.88957\tvalidation_1-mae:1.88278\n",
      "[6]\tvalidation_0-mae:1.51665\tvalidation_1-mae:1.51072\n",
      "[7]\tvalidation_0-mae:1.2222\tvalidation_1-mae:1.21753\n",
      "[8]\tvalidation_0-mae:0.99368\tvalidation_1-mae:0.991831\n",
      "[9]\tvalidation_0-mae:0.820644\tvalidation_1-mae:0.822592\n",
      "[10]\tvalidation_0-mae:0.693184\tvalidation_1-mae:0.699732\n",
      "[11]\tvalidation_0-mae:0.601681\tvalidation_1-mae:0.613379\n",
      "[12]\tvalidation_0-mae:0.536664\tvalidation_1-mae:0.553382\n",
      "[13]\tvalidation_0-mae:0.491134\tvalidation_1-mae:0.512989\n",
      "[14]\tvalidation_0-mae:0.458686\tvalidation_1-mae:0.485186\n",
      "[15]\tvalidation_0-mae:0.436219\tvalidation_1-mae:0.466631\n",
      "[16]\tvalidation_0-mae:0.419857\tvalidation_1-mae:0.453692\n",
      "[17]\tvalidation_0-mae:0.407911\tvalidation_1-mae:0.445641\n",
      "[18]\tvalidation_0-mae:0.399662\tvalidation_1-mae:0.44021\n",
      "[19]\tvalidation_0-mae:0.392809\tvalidation_1-mae:0.436425\n",
      "Fold2, score=1209.683919529437\n",
      "[0]\tvalidation_0-mae:5.74774\tvalidation_1-mae:5.75295\n",
      "[1]\tvalidation_0-mae:4.59923\tvalidation_1-mae:4.60468\n",
      "[2]\tvalidation_0-mae:3.68026\tvalidation_1-mae:3.68582\n",
      "[3]\tvalidation_0-mae:2.94517\tvalidation_1-mae:2.95056\n",
      "[4]\tvalidation_0-mae:2.3577\tvalidation_1-mae:2.36281\n",
      "[5]\tvalidation_0-mae:1.88882\tvalidation_1-mae:1.8936\n",
      "[6]\tvalidation_0-mae:1.51575\tvalidation_1-mae:1.52097\n",
      "[7]\tvalidation_0-mae:1.22153\tvalidation_1-mae:1.22859\n",
      "[8]\tvalidation_0-mae:0.993454\tvalidation_1-mae:1.00273\n",
      "[9]\tvalidation_0-mae:0.820226\tvalidation_1-mae:0.833088\n",
      "[10]\tvalidation_0-mae:0.692717\tvalidation_1-mae:0.709321\n",
      "[11]\tvalidation_0-mae:0.60124\tvalidation_1-mae:0.621681\n",
      "[12]\tvalidation_0-mae:0.537368\tvalidation_1-mae:0.560741\n",
      "[13]\tvalidation_0-mae:0.492133\tvalidation_1-mae:0.518769\n",
      "[14]\tvalidation_0-mae:0.460617\tvalidation_1-mae:0.490358\n",
      "[15]\tvalidation_0-mae:0.437108\tvalidation_1-mae:0.471197\n",
      "[16]\tvalidation_0-mae:0.42017\tvalidation_1-mae:0.45838\n",
      "[17]\tvalidation_0-mae:0.407\tvalidation_1-mae:0.449699\n",
      "[18]\tvalidation_0-mae:0.397082\tvalidation_1-mae:0.443846\n",
      "[19]\tvalidation_0-mae:0.390565\tvalidation_1-mae:0.439323\n",
      "Fold3, score=1234.1922054663805\n"
     ]
    }
   ],
   "source": [
    "nfolds = 3\n",
    "folds = KFold(len(y), n_folds=nfolds, shuffle = True, random_state = 2017)\n",
    "\n",
    "for num_iter, (train_index, test_index) in enumerate(folds):\n",
    "    X_train, y_train = X[train_index], y[train_index]\n",
    "    X_test, y_test   = X[test_index], y[test_index]\n",
    "    \n",
    "    y_log_train = np.log(y_train + 1)\n",
    "    y_log_test = np.log(y_test + 1)\n",
    "    \n",
    "    model.fit(X_train, y_log_train,\n",
    "       eval_metric='mae',\n",
    "       eval_set=[(X_train, y_log_train), (X_test, y_log_test)],\n",
    "       verbose=True)\n",
    "    \n",
    "    y_log_pred = model.predict(X_test)\n",
    "    y_pred = np.exp(y_log_pred) - 1\n",
    "    y_pred[y_pred<0] = 0\n",
    "    \n",
    "    score = mean_absolute_error(y_test, y_pred)\n",
    "    print(\"Fold{0}, score={1}\".format(num_iter+1, score))"
   ]
  },
  {
   "cell_type": "code",
   "execution_count": null,
   "metadata": {
    "collapsed": true
   },
   "outputs": [],
   "source": []
  }
 ],
 "metadata": {
  "kernelspec": {
   "display_name": "Python 3",
   "language": "python",
   "name": "python3"
  },
  "language_info": {
   "codemirror_mode": {
    "name": "ipython",
    "version": 3
   },
   "file_extension": ".py",
   "mimetype": "text/x-python",
   "name": "python",
   "nbconvert_exporter": "python",
   "pygments_lexer": "ipython3",
   "version": "3.6.2"
  }
 },
 "nbformat": 4,
 "nbformat_minor": 2
}
